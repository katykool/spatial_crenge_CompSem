{
  "nbformat": 4,
  "nbformat_minor": 0,
  "metadata": {
    "colab": {
      "provenance": []
    },
    "kernelspec": {
      "name": "python3",
      "display_name": "Python 3"
    },
    "language_info": {
      "name": "python"
    }
  },
  "cells": [
    {
      "cell_type": "markdown",
      "source": [
        "# Multidimensional scaling"
      ],
      "metadata": {
        "id": "VKtvMGOBqznF"
      }
    },
    {
      "cell_type": "code",
      "source": [
        "import numpy as np\n",
        "import pandas as pd\n",
        "from matplotlib import pyplot as plt\n",
        "from sklearn import manifold\n",
        "from sklearn.metrics import euclidean_distances"
      ],
      "metadata": {
        "id": "JaID__MTq3Mu"
      },
      "execution_count": 108,
      "outputs": []
    },
    {
      "cell_type": "code",
      "source": [
        "df = pd.read_csv('crenge_markers_CompSem_mds.csv')\n",
        "df.head(5)"
      ],
      "metadata": {
        "colab": {
          "base_uri": "https://localhost:8080/",
          "height": 307
        },
        "id": "UThNG8Pdq7nR",
        "outputId": "6e0195bc-1754-415a-b712-e9c5fa3bb2fb"
      },
      "execution_count": 109,
      "outputs": [
        {
          "output_type": "execute_result",
          "data": {
            "text/plain": [
              "  Topological Relation  sisällä  -llA  päällä  lähellä  vieressä  \\\n",
              "0                   IN      1.0   0.0     0.0      0.0       0.0   \n",
              "1                SUBST      0.0   0.0     0.0      0.0       0.0   \n",
              "2                   GL      0.0   1.0     0.0      0.0       0.0   \n",
              "3                   ON      0.0   1.0     1.0      0.0       0.0   \n",
              "4                HUMAN      0.0   1.0     0.0      0.0       0.0   \n",
              "\n",
              "   -(ə̑)štə̑ ~ (ӛ)štӛ  -eš  vӛlnӛ  vujə̑štə̑  ...  sisnie  -se ~ sse ~ n  \\\n",
              "0                 1.0  1.0    0.0        0.0  ...     1.0            0.0   \n",
              "1                 1.0  1.0    0.0        0.0  ...     1.0            0.0   \n",
              "2                 1.0  1.0    0.0        0.0  ...     1.0            0.0   \n",
              "3                 1.0  1.0    1.0        1.0  ...     0.0            1.0   \n",
              "4                 0.0  0.0    0.0        0.0  ...     0.0            0.0   \n",
              "\n",
              "   nelnie  nille  nueliem  jarge  luvnie  Unnamed: 49  -ssA  alla  \n",
              "0     0.0    0.0      0.0    0.0     0.0          0.0   1.0   0.0  \n",
              "1     0.0    0.0      0.0    0.0     0.0          0.0   1.0   0.0  \n",
              "2     1.0    0.0      0.0    0.0     1.0          0.0   1.0   0.0  \n",
              "3     1.0    1.0      0.0    0.0     0.0          0.0   0.0   0.0  \n",
              "4     0.0    0.0      0.0    0.0     1.0          1.0   0.0   0.0  \n",
              "\n",
              "[5 rows x 52 columns]"
            ],
            "text/html": [
              "\n",
              "  <div id=\"df-a3ecc5c7-d044-4584-be9f-c39dad5776a2\" class=\"colab-df-container\">\n",
              "    <div>\n",
              "<style scoped>\n",
              "    .dataframe tbody tr th:only-of-type {\n",
              "        vertical-align: middle;\n",
              "    }\n",
              "\n",
              "    .dataframe tbody tr th {\n",
              "        vertical-align: top;\n",
              "    }\n",
              "\n",
              "    .dataframe thead th {\n",
              "        text-align: right;\n",
              "    }\n",
              "</style>\n",
              "<table border=\"1\" class=\"dataframe\">\n",
              "  <thead>\n",
              "    <tr style=\"text-align: right;\">\n",
              "      <th></th>\n",
              "      <th>Topological Relation</th>\n",
              "      <th>sisällä</th>\n",
              "      <th>-llA</th>\n",
              "      <th>päällä</th>\n",
              "      <th>lähellä</th>\n",
              "      <th>vieressä</th>\n",
              "      <th>-(ə̑)štə̑ ~ (ӛ)štӛ</th>\n",
              "      <th>-eš</th>\n",
              "      <th>vӛlnӛ</th>\n",
              "      <th>vujə̑štə̑</th>\n",
              "      <th>...</th>\n",
              "      <th>sisnie</th>\n",
              "      <th>-se ~ sse ~ n</th>\n",
              "      <th>nelnie</th>\n",
              "      <th>nille</th>\n",
              "      <th>nueliem</th>\n",
              "      <th>jarge</th>\n",
              "      <th>luvnie</th>\n",
              "      <th>Unnamed: 49</th>\n",
              "      <th>-ssA</th>\n",
              "      <th>alla</th>\n",
              "    </tr>\n",
              "  </thead>\n",
              "  <tbody>\n",
              "    <tr>\n",
              "      <th>0</th>\n",
              "      <td>IN</td>\n",
              "      <td>1.0</td>\n",
              "      <td>0.0</td>\n",
              "      <td>0.0</td>\n",
              "      <td>0.0</td>\n",
              "      <td>0.0</td>\n",
              "      <td>1.0</td>\n",
              "      <td>1.0</td>\n",
              "      <td>0.0</td>\n",
              "      <td>0.0</td>\n",
              "      <td>...</td>\n",
              "      <td>1.0</td>\n",
              "      <td>0.0</td>\n",
              "      <td>0.0</td>\n",
              "      <td>0.0</td>\n",
              "      <td>0.0</td>\n",
              "      <td>0.0</td>\n",
              "      <td>0.0</td>\n",
              "      <td>0.0</td>\n",
              "      <td>1.0</td>\n",
              "      <td>0.0</td>\n",
              "    </tr>\n",
              "    <tr>\n",
              "      <th>1</th>\n",
              "      <td>SUBST</td>\n",
              "      <td>0.0</td>\n",
              "      <td>0.0</td>\n",
              "      <td>0.0</td>\n",
              "      <td>0.0</td>\n",
              "      <td>0.0</td>\n",
              "      <td>1.0</td>\n",
              "      <td>1.0</td>\n",
              "      <td>0.0</td>\n",
              "      <td>0.0</td>\n",
              "      <td>...</td>\n",
              "      <td>1.0</td>\n",
              "      <td>0.0</td>\n",
              "      <td>0.0</td>\n",
              "      <td>0.0</td>\n",
              "      <td>0.0</td>\n",
              "      <td>0.0</td>\n",
              "      <td>0.0</td>\n",
              "      <td>0.0</td>\n",
              "      <td>1.0</td>\n",
              "      <td>0.0</td>\n",
              "    </tr>\n",
              "    <tr>\n",
              "      <th>2</th>\n",
              "      <td>GL</td>\n",
              "      <td>0.0</td>\n",
              "      <td>1.0</td>\n",
              "      <td>0.0</td>\n",
              "      <td>0.0</td>\n",
              "      <td>0.0</td>\n",
              "      <td>1.0</td>\n",
              "      <td>1.0</td>\n",
              "      <td>0.0</td>\n",
              "      <td>0.0</td>\n",
              "      <td>...</td>\n",
              "      <td>1.0</td>\n",
              "      <td>0.0</td>\n",
              "      <td>1.0</td>\n",
              "      <td>0.0</td>\n",
              "      <td>0.0</td>\n",
              "      <td>0.0</td>\n",
              "      <td>1.0</td>\n",
              "      <td>0.0</td>\n",
              "      <td>1.0</td>\n",
              "      <td>0.0</td>\n",
              "    </tr>\n",
              "    <tr>\n",
              "      <th>3</th>\n",
              "      <td>ON</td>\n",
              "      <td>0.0</td>\n",
              "      <td>1.0</td>\n",
              "      <td>1.0</td>\n",
              "      <td>0.0</td>\n",
              "      <td>0.0</td>\n",
              "      <td>1.0</td>\n",
              "      <td>1.0</td>\n",
              "      <td>1.0</td>\n",
              "      <td>1.0</td>\n",
              "      <td>...</td>\n",
              "      <td>0.0</td>\n",
              "      <td>1.0</td>\n",
              "      <td>1.0</td>\n",
              "      <td>1.0</td>\n",
              "      <td>0.0</td>\n",
              "      <td>0.0</td>\n",
              "      <td>0.0</td>\n",
              "      <td>0.0</td>\n",
              "      <td>0.0</td>\n",
              "      <td>0.0</td>\n",
              "    </tr>\n",
              "    <tr>\n",
              "      <th>4</th>\n",
              "      <td>HUMAN</td>\n",
              "      <td>0.0</td>\n",
              "      <td>1.0</td>\n",
              "      <td>0.0</td>\n",
              "      <td>0.0</td>\n",
              "      <td>0.0</td>\n",
              "      <td>0.0</td>\n",
              "      <td>0.0</td>\n",
              "      <td>0.0</td>\n",
              "      <td>0.0</td>\n",
              "      <td>...</td>\n",
              "      <td>0.0</td>\n",
              "      <td>0.0</td>\n",
              "      <td>0.0</td>\n",
              "      <td>0.0</td>\n",
              "      <td>0.0</td>\n",
              "      <td>0.0</td>\n",
              "      <td>1.0</td>\n",
              "      <td>1.0</td>\n",
              "      <td>0.0</td>\n",
              "      <td>0.0</td>\n",
              "    </tr>\n",
              "  </tbody>\n",
              "</table>\n",
              "<p>5 rows × 52 columns</p>\n",
              "</div>\n",
              "    <div class=\"colab-df-buttons\">\n",
              "\n",
              "  <div class=\"colab-df-container\">\n",
              "    <button class=\"colab-df-convert\" onclick=\"convertToInteractive('df-a3ecc5c7-d044-4584-be9f-c39dad5776a2')\"\n",
              "            title=\"Convert this dataframe to an interactive table.\"\n",
              "            style=\"display:none;\">\n",
              "\n",
              "  <svg xmlns=\"http://www.w3.org/2000/svg\" height=\"24px\" viewBox=\"0 -960 960 960\">\n",
              "    <path d=\"M120-120v-720h720v720H120Zm60-500h600v-160H180v160Zm220 220h160v-160H400v160Zm0 220h160v-160H400v160ZM180-400h160v-160H180v160Zm440 0h160v-160H620v160ZM180-180h160v-160H180v160Zm440 0h160v-160H620v160Z\"/>\n",
              "  </svg>\n",
              "    </button>\n",
              "\n",
              "  <style>\n",
              "    .colab-df-container {\n",
              "      display:flex;\n",
              "      gap: 12px;\n",
              "    }\n",
              "\n",
              "    .colab-df-convert {\n",
              "      background-color: #E8F0FE;\n",
              "      border: none;\n",
              "      border-radius: 50%;\n",
              "      cursor: pointer;\n",
              "      display: none;\n",
              "      fill: #1967D2;\n",
              "      height: 32px;\n",
              "      padding: 0 0 0 0;\n",
              "      width: 32px;\n",
              "    }\n",
              "\n",
              "    .colab-df-convert:hover {\n",
              "      background-color: #E2EBFA;\n",
              "      box-shadow: 0px 1px 2px rgba(60, 64, 67, 0.3), 0px 1px 3px 1px rgba(60, 64, 67, 0.15);\n",
              "      fill: #174EA6;\n",
              "    }\n",
              "\n",
              "    .colab-df-buttons div {\n",
              "      margin-bottom: 4px;\n",
              "    }\n",
              "\n",
              "    [theme=dark] .colab-df-convert {\n",
              "      background-color: #3B4455;\n",
              "      fill: #D2E3FC;\n",
              "    }\n",
              "\n",
              "    [theme=dark] .colab-df-convert:hover {\n",
              "      background-color: #434B5C;\n",
              "      box-shadow: 0px 1px 3px 1px rgba(0, 0, 0, 0.15);\n",
              "      filter: drop-shadow(0px 1px 2px rgba(0, 0, 0, 0.3));\n",
              "      fill: #FFFFFF;\n",
              "    }\n",
              "  </style>\n",
              "\n",
              "    <script>\n",
              "      const buttonEl =\n",
              "        document.querySelector('#df-a3ecc5c7-d044-4584-be9f-c39dad5776a2 button.colab-df-convert');\n",
              "      buttonEl.style.display =\n",
              "        google.colab.kernel.accessAllowed ? 'block' : 'none';\n",
              "\n",
              "      async function convertToInteractive(key) {\n",
              "        const element = document.querySelector('#df-a3ecc5c7-d044-4584-be9f-c39dad5776a2');\n",
              "        const dataTable =\n",
              "          await google.colab.kernel.invokeFunction('convertToInteractive',\n",
              "                                                    [key], {});\n",
              "        if (!dataTable) return;\n",
              "\n",
              "        const docLinkHtml = 'Like what you see? Visit the ' +\n",
              "          '<a target=\"_blank\" href=https://colab.research.google.com/notebooks/data_table.ipynb>data table notebook</a>'\n",
              "          + ' to learn more about interactive tables.';\n",
              "        element.innerHTML = '';\n",
              "        dataTable['output_type'] = 'display_data';\n",
              "        await google.colab.output.renderOutput(dataTable, element);\n",
              "        const docLink = document.createElement('div');\n",
              "        docLink.innerHTML = docLinkHtml;\n",
              "        element.appendChild(docLink);\n",
              "      }\n",
              "    </script>\n",
              "  </div>\n",
              "\n",
              "\n",
              "<div id=\"df-e7606ea1-19cb-4e3a-9dc9-bda1a0b06ea7\">\n",
              "  <button class=\"colab-df-quickchart\" onclick=\"quickchart('df-e7606ea1-19cb-4e3a-9dc9-bda1a0b06ea7')\"\n",
              "            title=\"Suggest charts\"\n",
              "            style=\"display:none;\">\n",
              "\n",
              "<svg xmlns=\"http://www.w3.org/2000/svg\" height=\"24px\"viewBox=\"0 0 24 24\"\n",
              "     width=\"24px\">\n",
              "    <g>\n",
              "        <path d=\"M19 3H5c-1.1 0-2 .9-2 2v14c0 1.1.9 2 2 2h14c1.1 0 2-.9 2-2V5c0-1.1-.9-2-2-2zM9 17H7v-7h2v7zm4 0h-2V7h2v10zm4 0h-2v-4h2v4z\"/>\n",
              "    </g>\n",
              "</svg>\n",
              "  </button>\n",
              "\n",
              "<style>\n",
              "  .colab-df-quickchart {\n",
              "      --bg-color: #E8F0FE;\n",
              "      --fill-color: #1967D2;\n",
              "      --hover-bg-color: #E2EBFA;\n",
              "      --hover-fill-color: #174EA6;\n",
              "      --disabled-fill-color: #AAA;\n",
              "      --disabled-bg-color: #DDD;\n",
              "  }\n",
              "\n",
              "  [theme=dark] .colab-df-quickchart {\n",
              "      --bg-color: #3B4455;\n",
              "      --fill-color: #D2E3FC;\n",
              "      --hover-bg-color: #434B5C;\n",
              "      --hover-fill-color: #FFFFFF;\n",
              "      --disabled-bg-color: #3B4455;\n",
              "      --disabled-fill-color: #666;\n",
              "  }\n",
              "\n",
              "  .colab-df-quickchart {\n",
              "    background-color: var(--bg-color);\n",
              "    border: none;\n",
              "    border-radius: 50%;\n",
              "    cursor: pointer;\n",
              "    display: none;\n",
              "    fill: var(--fill-color);\n",
              "    height: 32px;\n",
              "    padding: 0;\n",
              "    width: 32px;\n",
              "  }\n",
              "\n",
              "  .colab-df-quickchart:hover {\n",
              "    background-color: var(--hover-bg-color);\n",
              "    box-shadow: 0 1px 2px rgba(60, 64, 67, 0.3), 0 1px 3px 1px rgba(60, 64, 67, 0.15);\n",
              "    fill: var(--button-hover-fill-color);\n",
              "  }\n",
              "\n",
              "  .colab-df-quickchart-complete:disabled,\n",
              "  .colab-df-quickchart-complete:disabled:hover {\n",
              "    background-color: var(--disabled-bg-color);\n",
              "    fill: var(--disabled-fill-color);\n",
              "    box-shadow: none;\n",
              "  }\n",
              "\n",
              "  .colab-df-spinner {\n",
              "    border: 2px solid var(--fill-color);\n",
              "    border-color: transparent;\n",
              "    border-bottom-color: var(--fill-color);\n",
              "    animation:\n",
              "      spin 1s steps(1) infinite;\n",
              "  }\n",
              "\n",
              "  @keyframes spin {\n",
              "    0% {\n",
              "      border-color: transparent;\n",
              "      border-bottom-color: var(--fill-color);\n",
              "      border-left-color: var(--fill-color);\n",
              "    }\n",
              "    20% {\n",
              "      border-color: transparent;\n",
              "      border-left-color: var(--fill-color);\n",
              "      border-top-color: var(--fill-color);\n",
              "    }\n",
              "    30% {\n",
              "      border-color: transparent;\n",
              "      border-left-color: var(--fill-color);\n",
              "      border-top-color: var(--fill-color);\n",
              "      border-right-color: var(--fill-color);\n",
              "    }\n",
              "    40% {\n",
              "      border-color: transparent;\n",
              "      border-right-color: var(--fill-color);\n",
              "      border-top-color: var(--fill-color);\n",
              "    }\n",
              "    60% {\n",
              "      border-color: transparent;\n",
              "      border-right-color: var(--fill-color);\n",
              "    }\n",
              "    80% {\n",
              "      border-color: transparent;\n",
              "      border-right-color: var(--fill-color);\n",
              "      border-bottom-color: var(--fill-color);\n",
              "    }\n",
              "    90% {\n",
              "      border-color: transparent;\n",
              "      border-bottom-color: var(--fill-color);\n",
              "    }\n",
              "  }\n",
              "</style>\n",
              "\n",
              "  <script>\n",
              "    async function quickchart(key) {\n",
              "      const quickchartButtonEl =\n",
              "        document.querySelector('#' + key + ' button');\n",
              "      quickchartButtonEl.disabled = true;  // To prevent multiple clicks.\n",
              "      quickchartButtonEl.classList.add('colab-df-spinner');\n",
              "      try {\n",
              "        const charts = await google.colab.kernel.invokeFunction(\n",
              "            'suggestCharts', [key], {});\n",
              "      } catch (error) {\n",
              "        console.error('Error during call to suggestCharts:', error);\n",
              "      }\n",
              "      quickchartButtonEl.classList.remove('colab-df-spinner');\n",
              "      quickchartButtonEl.classList.add('colab-df-quickchart-complete');\n",
              "    }\n",
              "    (() => {\n",
              "      let quickchartButtonEl =\n",
              "        document.querySelector('#df-e7606ea1-19cb-4e3a-9dc9-bda1a0b06ea7 button');\n",
              "      quickchartButtonEl.style.display =\n",
              "        google.colab.kernel.accessAllowed ? 'block' : 'none';\n",
              "    })();\n",
              "  </script>\n",
              "</div>\n",
              "    </div>\n",
              "  </div>\n"
            ],
            "application/vnd.google.colaboratory.intrinsic+json": {
              "type": "dataframe",
              "variable_name": "df"
            }
          },
          "metadata": {},
          "execution_count": 109
        }
      ]
    },
    {
      "cell_type": "code",
      "source": [
        "matrix = df.loc[:, '-llA':'alla']\n",
        "array = matrix.values\n",
        "print (array.shape)"
      ],
      "metadata": {
        "colab": {
          "base_uri": "https://localhost:8080/"
        },
        "id": "ncFKAnjKrHQD",
        "outputId": "efb84346-50f1-4c23-f93e-8c3e2063377d"
      },
      "execution_count": 110,
      "outputs": [
        {
          "output_type": "stream",
          "name": "stdout",
          "text": [
            "(7, 50)\n"
          ]
        }
      ]
    },
    {
      "cell_type": "code",
      "source": [
        "similarities = euclidean_distances(array)\n",
        "mds = manifold.MDS(n_components=2)\n",
        "print (mds.fit(similarities).stress_)"
      ],
      "metadata": {
        "colab": {
          "base_uri": "https://localhost:8080/"
        },
        "id": "Dk2nf621rKMX",
        "outputId": "99bcbaad-33fe-496c-8e01-50635a061280"
      },
      "execution_count": 111,
      "outputs": [
        {
          "output_type": "stream",
          "name": "stdout",
          "text": [
            "33.951666446776706\n"
          ]
        },
        {
          "output_type": "stream",
          "name": "stderr",
          "text": [
            "/usr/local/lib/python3.10/dist-packages/sklearn/manifold/_mds.py:632: UserWarning: The MDS API has changed. ``fit`` now constructs an dissimilarity matrix from data. To use a custom dissimilarity matrix, set ``dissimilarity='precomputed'``.\n",
            "  warnings.warn(\n"
          ]
        }
      ]
    },
    {
      "cell_type": "code",
      "source": [
        "array_mds = mds.fit_transform(array)\n",
        "print (array_mds)"
      ],
      "metadata": {
        "colab": {
          "base_uri": "https://localhost:8080/"
        },
        "id": "EIiJaWT6rObR",
        "outputId": "b7a0c513-6e0b-42e7-da34-d4741c915b0e"
      },
      "execution_count": 112,
      "outputs": [
        {
          "output_type": "stream",
          "name": "stdout",
          "text": [
            "[[ 2.29613235  0.47555503]\n",
            " [ 1.0487291  -0.18346065]\n",
            " [ 2.22710551 -1.86982038]\n",
            " [-0.28461689 -3.18721656]\n",
            " [ 0.02556631  2.95821882]\n",
            " [-2.3641322   2.48042966]\n",
            " [-2.94878419 -0.67370592]]\n"
          ]
        }
      ]
    },
    {
      "cell_type": "code",
      "source": [
        "for i, loc in enumerate(df['Topological Relation']):\n",
        "    plt.annotate(loc, (array_mds[i, 0], array_mds[i, 1]), fontsize=12)\n",
        "\n",
        "plt.scatter(array_mds[:, 0], array_mds[:, 1])\n",
        "plt.title(\"Непрерывная семантическая карта\")\n",
        "plt.show()"
      ],
      "metadata": {
        "colab": {
          "base_uri": "https://localhost:8080/",
          "height": 452
        },
        "id": "63U1StPvrRF_",
        "outputId": "3adf0193-192f-400b-db81-5ef8ce0d9937"
      },
      "execution_count": 113,
      "outputs": [
        {
          "output_type": "display_data",
          "data": {
            "text/plain": [
              "<Figure size 640x480 with 1 Axes>"
            ],
            "image/png": "[encoded data removed]"
          },
          "metadata": {}
        }
      ]
    },
    {
      "cell_type": "markdown",
      "source": [
        "# Классические семантические карты\n",
        "По алгоритму, адаптированному из [Regier et al. 2013]"
      ],
      "metadata": {
        "id": "H2VO2whSfJH1"
      }
    },
    {
      "cell_type": "code",
      "source": [
        "import networkx as nx\n",
        "from itertools import combinations\n",
        "\n",
        "def create_connected_graph(V, constraints):\n",
        "    G = nx.Graph()\n",
        "    G.add_nodes_from(V)\n",
        "\n",
        "    # сортируем рёбра от более значимых к менее значимым\n",
        "    sorted_edges = sorted(d_meaning.items(), key=lambda item: item[1], reverse=False)\n",
        "\n",
        "    # добавляем ребра в граф\n",
        "    for (u, v), importance in sorted_edges:\n",
        "      if nx.has_path(G, u, v): # если уже есть путь между двумя данными узлами, то проускаем\n",
        "        pass\n",
        "      else:\n",
        "        G.add_edge(u, v) # если нет, добавляем ребро\n",
        "\n",
        "    return G\n",
        "\n",
        "def extract_constraints(data):\n",
        "    \"\"\"автоматическое извлечение ограничений (отлавливаем синкретизмы)\"\"\"\n",
        "    global d_meaning\n",
        "\n",
        "    constraints = []\n",
        "\n",
        "    # Iterate over each row in the DataFrame\n",
        "    for index, row in data.iterrows():\n",
        "        means = row['Marker']  # Вторая колонка - средства\n",
        "        sync = row[2:].index[row[2:] == 1.0].tolist()  # Индексы колонок с локализациями, где значение 1.0\n",
        "\n",
        "        # Проверяем, есть ли более одной локализации\n",
        "        if len(sync) >= 2:\n",
        "            for i in range(len(sync)):\n",
        "                for j in range(i + 1, len(sync)):\n",
        "                    constraints.append([sync[i], sync[j]])\n",
        "\n",
        "                    d_meaning[(sync[i], sync[j])]=len(sync)\n",
        "\n",
        "    return constraints\n",
        "\n",
        "d_meaning = {} # словарь значимостей\n",
        "\n",
        "data = pd.read_csv('crenge_markers_CompSem.csv')\n",
        "V = ['IN', 'ON', 'GL', 'HUMAN', 'UNDER', 'SUBST', 'NEAR']\n",
        "constraints = extract_constraints(data)  # автоматически извлекаем ограничения\n",
        "\n",
        "graph = create_connected_graph(V, constraints) # строим граф\n",
        "\n",
        "# выводим все проведенные алгоритмом ребра\n",
        "if graph and graph.number_of_edges() > 0:\n",
        "    print(graph.edges())\n",
        "else:\n",
        "    print(\"С такими ограничениями граф построить невозможно\")"
      ],
      "metadata": {
        "colab": {
          "base_uri": "https://localhost:8080/"
        },
        "id": "3vtZZl8oYWlA",
        "outputId": "14bef5d1-d724-4b43-8772-d6623f264b72"
      },
      "execution_count": 115,
      "outputs": [
        {
          "output_type": "stream",
          "name": "stdout",
          "text": [
            "[('IN', 'GL'), ('IN', 'SUBST'), ('ON', 'GL'), ('ON', 'NEAR'), ('GL', 'HUMAN')]\n"
          ]
        }
      ]
    },
    {
      "cell_type": "code",
      "source": [
        "# РИСУЕМ ГРАФ\n",
        "\n",
        "plt.figure(figsize=(8, 6))\n",
        "pos = nx.spring_layout(graph)\n",
        "nx.draw(graph, pos, with_labels=True, node_color='lightblue', node_size=800, edge_color='gray', font_size=12, font_weight='bold')\n",
        "\n",
        "plt.title(\"Классическая семантическая карта\")\n",
        "\n",
        "plt.show()"
      ],
      "metadata": {
        "colab": {
          "base_uri": "https://localhost:8080/",
          "height": 659
        },
        "id": "W2naLDbpbwaJ",
        "outputId": "64060e65-ae40-4c8c-9c2b-d9ddb6aea2cf"
      },
      "execution_count": 116,
      "outputs": [
        {
          "output_type": "display_data",
          "data": {
            "text/plain": [
              "<Figure size 800x600 with 1 Axes>"
            ],
            "image/png": "[encoded data removed]"
          },
          "metadata": {}
        }
      ]
    }
  ]
}